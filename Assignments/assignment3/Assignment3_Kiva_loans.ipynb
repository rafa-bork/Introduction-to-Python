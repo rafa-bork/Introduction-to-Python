{
 "cells": [
  {
   "cell_type": "code",
   "execution_count": 80,
   "id": "d7e92736-8f4d-496d-b6f5-7c852e735a72",
   "metadata": {},
   "outputs": [],
   "source": [
    "import pandas as pd\n",
    "import numpy as np"
   ]
  },
  {
   "cell_type": "code",
   "execution_count": 81,
   "id": "1332e764-ac93-45d7-b77e-10836c75fa45",
   "metadata": {},
   "outputs": [],
   "source": [
    "pd.set_option('display.max_rows', 100)\n",
    "pd.set_option('display.max_columns', 50)"
   ]
  },
  {
   "cell_type": "code",
   "execution_count": 82,
   "id": "f357e231-0ffb-4392-bd66-a3451bcb5e19",
   "metadata": {},
   "outputs": [
    {
     "name": "stdout",
     "output_type": "stream",
     "text": [
      "       id  funded_amount  loan_amount             activity          sector  \\\n",
      "0  653051          300.0        300.0  Fruits & Vegetables            Food   \n",
      "1  653053          575.0        575.0             Rickshaw  Transportation   \n",
      "2  653068          150.0        150.0       Transportation  Transportation   \n",
      "3  653063          200.0        200.0           Embroidery            Arts   \n",
      "4  653084          400.0        400.0           Milk Sales            Food   \n",
      "\n",
      "                                                 use country_code   country  \\\n",
      "0            To buy seasonal, fresh fruits to sell.            PK  Pakistan   \n",
      "1  to repair and maintain the auto rickshaw used ...           PK  Pakistan   \n",
      "2  To repair their old cycle-van and buy another ...           IN     India   \n",
      "3  to purchase an embroidery machine and a variet...           PK  Pakistan   \n",
      "4                           to purchase one buffalo.           PK  Pakistan   \n",
      "\n",
      "         region currency  partner_id                posted_time  \\\n",
      "0        Lahore      PKR       247.0  2014-01-01 06:12:39+00:00   \n",
      "1        Lahore      PKR       247.0  2014-01-01 06:51:08+00:00   \n",
      "2     Maynaguri      INR       334.0  2014-01-01 09:58:07+00:00   \n",
      "3        Lahore      PKR       247.0  2014-01-01 08:03:11+00:00   \n",
      "4  Abdul Hakeem      PKR       245.0  2014-01-01 11:53:19+00:00   \n",
      "\n",
      "              disbursed_time                funded_time  term_in_months  \\\n",
      "0  2013-12-17 08:00:00+00:00  2014-01-02 10:06:32+00:00            12.0   \n",
      "1  2013-12-17 08:00:00+00:00  2014-01-02 09:17:23+00:00            11.0   \n",
      "2  2013-12-17 08:00:00+00:00  2014-01-01 16:01:36+00:00            43.0   \n",
      "3  2013-12-24 08:00:00+00:00  2014-01-01 13:00:00+00:00            11.0   \n",
      "4  2013-12-17 08:00:00+00:00  2014-01-01 19:18:51+00:00            14.0   \n",
      "\n",
      "   lender_count                          tags borrower_genders  \\\n",
      "0            12                           NaN           female   \n",
      "1            14                           NaN   female, female   \n",
      "2             6  user_favorite, user_favorite           female   \n",
      "3             8                           NaN           female   \n",
      "4            16                           NaN           female   \n",
      "\n",
      "  repayment_interval        date  \n",
      "0          irregular  2014-01-01  \n",
      "1          irregular  2014-01-01  \n",
      "2             bullet  2014-01-01  \n",
      "3          irregular  2014-01-01  \n",
      "4            monthly  2014-01-01  \n"
     ]
    }
   ],
   "source": [
    "#importing the database\n",
    "loans = pd.read_csv(\"./kiva_loans.csv\")\n",
    "print(loans.head())"
   ]
  },
  {
   "cell_type": "code",
   "execution_count": 83,
   "id": "4e19ce8d-abf5-42c3-9d71-2f4252f7e4f0",
   "metadata": {},
   "outputs": [
    {
     "name": "stdout",
     "output_type": "stream",
     "text": [
      "       country country_code  loan_amount  loan_count\n",
      "0      Nigeria           NG       217.60       10136\n",
      "1         Togo           TG       267.24        5749\n",
      "2   Madagascar           MG       323.48        3821\n",
      "3      Liberia           LR       325.32        3682\n",
      "4  Philippines           PH       344.94      160441\n",
      "          country country_code  loan_amount  loan_count\n",
      "82    Afghanistan           AF       7000.0           2\n",
      "83         Bhutan           BT      10000.0           2\n",
      "84          Chile           CL      12265.0          10\n",
      "85     Mauritania           MR      15000.0           1\n",
      "86  Cote D'Ivoire           CI      50000.0           1\n"
     ]
    }
   ],
   "source": [
    "#creating a new variable to use later\n",
    "loans['loan_count']=0\n",
    "\n",
    "#grouping loans by the country of origin, and calculating the average loan value, and counting the loans per country\n",
    "avg_loans_country = loans.groupby('country').agg({\n",
    "    'country_code': 'first',           \n",
    "    'loan_amount': 'mean',   \n",
    "    'loan_count': 'count'\n",
    "})\n",
    "\n",
    "#sorting the countries by their average loan_ammount\n",
    "avg_loans_country = avg_loans_country.sort_values(by='loan_amount', ascending=True).reset_index()\n",
    "avg_loans_country[['loan_amount']] = avg_loans_country[['loan_amount']].round(2)\n",
    "print(avg_loans_country.head())\n",
    "print(avg_loans_country.tail())"
   ]
  },
  {
   "cell_type": "code",
   "execution_count": 84,
   "id": "04c7f5ae-cae7-4c9e-9d71-c9b296952459",
   "metadata": {},
   "outputs": [
    {
     "name": "stdout",
     "output_type": "stream",
     "text": [
      "                             country country_code  loan_amount  loan_count\n",
      "62                           Vanuatu           VU      2312.50           4\n",
      "72  Saint Vincent and the Grenadines           VC      3076.56          16\n",
      "75                           Namibia         None      4046.88           8\n",
      "76                              Guam           GU      4300.00           1\n",
      "78                    Virgin Islands           VI      5000.00           2\n",
      "82                       Afghanistan           AF      7000.00           2\n",
      "83                            Bhutan           BT     10000.00           2\n",
      "84                             Chile           CL     12265.00          10\n",
      "85                        Mauritania           MR     15000.00           1\n",
      "86                     Cote D'Ivoire           CI     50000.00           1\n"
     ]
    }
   ],
   "source": [
    "#sorting the countries by their number of loans and showing the lowest ones\n",
    "low_loans_country = avg_loans_country.sort_values(by='loan_count', ascending=True)\n",
    "low_loans_country = avg_loans_country[avg_loans_country['loan_count']<=30]\n",
    "print(low_loans_country)"
   ]
  },
  {
   "cell_type": "code",
   "execution_count": 85,
   "id": "1401ce53-56f3-4dc3-ab08-57aa7f2c0a85",
   "metadata": {},
   "outputs": [
    {
     "name": "stdout",
     "output_type": "stream",
     "text": [
      "                                 country country_code  loan_amount  loan_count\n",
      "0                                Nigeria           NG       217.60       10136\n",
      "1                                   Togo           TG       267.24        5749\n",
      "2                             Madagascar           MG       323.48        3821\n",
      "3                                Liberia           LR       325.32        3682\n",
      "5                               Cameroon           CM       419.89        2230\n",
      "8                                  Kenya           KE       455.45       75825\n",
      "11                            Mozambique           MZ       594.85        3483\n",
      "15                                 Egypt           EG       673.14        1639\n",
      "16                                Uganda           UG       747.02       20601\n",
      "17                           South Sudan           SS       755.62         160\n",
      "19                          Sierra Leone           SL       772.03        5415\n",
      "25                               Lesotho           LS       851.95         422\n",
      "26                              Zimbabwe           ZW       854.59        4034\n",
      "32                                 Benin           BJ      1044.16         497\n",
      "35                                 Ghana           GH      1134.07        4374\n",
      "36                          Burkina Faso           BF      1208.41        2460\n",
      "37                                Malawi           MW      1237.37        1320\n",
      "39                              Tanzania           TZ      1308.24        5219\n",
      "40                                  Mali           ML      1353.62        6639\n",
      "51                          South Africa           ZA      1518.58         378\n",
      "52                                Zambia           ZM      1544.23         784\n",
      "60                               Senegal           SN      2151.71        3269\n",
      "66                                Rwanda           RW      2471.61        6735\n",
      "70                               Somalia           SO      3011.67          75\n",
      "71                               Burundi           BI      3031.65         880\n",
      "73  The Democratic Republic of the Congo           CD      3664.55        3073\n",
      "75                               Namibia         None      4046.88           8\n",
      "81                                 Congo           CG      6142.58         128\n",
      "85                            Mauritania           MR     15000.00           1\n",
      "86                         Cote D'Ivoire           CI     50000.00           1\n"
     ]
    }
   ],
   "source": [
    "african_countries = ['Algeria', 'Angola', 'Benin', 'Botswana', 'Burkina Faso', 'Burundi', 'Cabo Verde',\n",
    "                     'Cameroon', 'Central African Republic', 'Chad', 'Comoros', 'Congo', 'Cote D\\'Ivoire',\n",
    "                     'Djibouti', 'Egypt', 'Equatorial Guinea', 'Eritrea', 'Eswatini', 'Ethiopia', 'Gabon',\n",
    "                     'Gambia', 'Ghana', 'Guinea', 'Guinea-Bissau', 'Kenya', 'Lesotho', 'Liberia', 'Libya',\n",
    "                     'Madagascar', 'Malawi', 'Mali', 'Mauritania', 'Mauritius', 'Morocco', 'Mozambique',\n",
    "                     'Namibia', 'Niger', 'Nigeria', 'Rwanda', 'Sao Tome and Principe', 'Senegal', 'Seychelles',\n",
    "                     'Sierra Leone', 'Somalia', 'South Africa', 'South Sudan', 'Sudan', 'Tanzania',\n",
    "                     'The Democratic Republic of the Congo', 'Togo', 'Tunisia', 'Uganda', 'Zambia', 'Zimbabwe']\n",
    "\n",
    "#showing only the african countries loan data\n",
    "avg_loans_africa = avg_loans_country[avg_loans_country['country'].isin(african_countries)]\n",
    "print(avg_loans_africa)"
   ]
  },
  {
   "cell_type": "code",
   "execution_count": 86,
   "id": "8581079f-567f-4f5a-b859-4ad9abaee82a",
   "metadata": {},
   "outputs": [
    {
     "name": "stdout",
     "output_type": "stream",
     "text": [
      "    index                               country country_code  loan_amount  \\\n",
      "0       0                               Nigeria           NG       217.60   \n",
      "1       1                                  Togo           TG       267.24   \n",
      "2       2                            Madagascar           MG       323.48   \n",
      "3       3                               Liberia           LR       325.32   \n",
      "4       5                              Cameroon           CM       419.89   \n",
      "5       8                                 Kenya           KE       455.45   \n",
      "6      11                            Mozambique           MZ       594.85   \n",
      "7      15                                 Egypt           EG       673.14   \n",
      "8      16                                Uganda           UG       747.02   \n",
      "9      17                           South Sudan           SS       755.62   \n",
      "10     19                          Sierra Leone           SL       772.03   \n",
      "11     25                               Lesotho           LS       851.95   \n",
      "12     26                              Zimbabwe           ZW       854.59   \n",
      "13     32                                 Benin           BJ      1044.16   \n",
      "14     35                                 Ghana           GH      1134.07   \n",
      "15     36                          Burkina Faso           BF      1208.41   \n",
      "16     37                                Malawi           MW      1237.37   \n",
      "17     39                              Tanzania           TZ      1308.24   \n",
      "18     40                                  Mali           ML      1353.62   \n",
      "19     51                          South Africa           ZA      1518.58   \n",
      "20     52                                Zambia           ZM      1544.23   \n",
      "21     60                               Senegal           SN      2151.71   \n",
      "22     66                                Rwanda           RW      2471.61   \n",
      "23     70                               Somalia           SO      3011.67   \n",
      "24     71                               Burundi           BI      3031.65   \n",
      "25     73  The Democratic Republic of the Congo           CD      3664.55   \n",
      "26     75                               Namibia         None      4046.88   \n",
      "27     81                                 Congo           CG      6142.58   \n",
      "28     85                            Mauritania           MR     15000.00   \n",
      "29     86                         Cote D'Ivoire           CI     50000.00   \n",
      "\n",
      "    loan_count average_loan_size  \n",
      "0        10136             small  \n",
      "1         5749             small  \n",
      "2         3821             small  \n",
      "3         3682             small  \n",
      "4         2230             small  \n",
      "5        75825             small  \n",
      "6         3483             small  \n",
      "7         1639             small  \n",
      "8        20601             small  \n",
      "9          160             small  \n",
      "10        5415             small  \n",
      "11         422             small  \n",
      "12        4034             small  \n",
      "13         497            medium  \n",
      "14        4374            medium  \n",
      "15        2460            medium  \n",
      "16        1320            medium  \n",
      "17        5219            medium  \n",
      "18        6639            medium  \n",
      "19         378            medium  \n",
      "20         784            medium  \n",
      "21        3269            medium  \n",
      "22        6735            medium  \n",
      "23          75             large  \n",
      "24         880             large  \n",
      "25        3073             large  \n",
      "26           8             large  \n",
      "27         128             large  \n",
      "28           1        very large  \n",
      "29           1        very large  \n"
     ]
    },
    {
     "name": "stderr",
     "output_type": "stream",
     "text": [
      "C:\\Users\\dias3\\AppData\\Local\\Temp\\ipykernel_8560\\413949200.py:2: SettingWithCopyWarning: \n",
      "A value is trying to be set on a copy of a slice from a DataFrame.\n",
      "Try using .loc[row_indexer,col_indexer] = value instead\n",
      "\n",
      "See the caveats in the documentation: https://pandas.pydata.org/pandas-docs/stable/user_guide/indexing.html#returning-a-view-versus-a-copy\n",
      "  avg_loans_africa.loc[:, 'average_loan_size'] = avg_loans_africa['loan_amount'].apply(lambda x:\n"
     ]
    }
   ],
   "source": [
    "#categorizing the average loan ammount in the african countries\n",
    "avg_loans_africa.loc[:, 'average_loan_size'] = avg_loans_africa['loan_amount'].apply(lambda x:\n",
    "    'small' if x > 0 and x <= 1000 else\n",
    "    'medium' if x > 1000 and x <= 3000 else\n",
    "    'large' if x > 3000 and x <= 8000 else\n",
    "    'very large')\n",
    "\n",
    "print(avg_loans_africa.reset_index())"
   ]
  },
  {
   "cell_type": "code",
   "execution_count": null,
   "id": "e2f73408-421a-4054-b68d-87dcc8cae6e8",
   "metadata": {},
   "outputs": [],
   "source": []
  }
 ],
 "metadata": {
  "kernelspec": {
   "display_name": "Python 3 (ipykernel)",
   "language": "python",
   "name": "python3"
  },
  "language_info": {
   "codemirror_mode": {
    "name": "ipython",
    "version": 3
   },
   "file_extension": ".py",
   "mimetype": "text/x-python",
   "name": "python",
   "nbconvert_exporter": "python",
   "pygments_lexer": "ipython3",
   "version": "3.12.5"
  }
 },
 "nbformat": 4,
 "nbformat_minor": 5
}
